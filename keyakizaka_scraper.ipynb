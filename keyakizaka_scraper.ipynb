{
 "cells": [
  {
   "cell_type": "code",
   "execution_count": 1,
   "metadata": {},
   "outputs": [],
   "source": [
    "import requests\n",
    "import re\n",
    "from bs4 import BeautifulSoup\n",
    "import csv"
   ]
  },
  {
   "cell_type": "code",
   "execution_count": 2,
   "metadata": {},
   "outputs": [],
   "source": [
    "filename = \"keyakizaka46.csv\"\n",
    "f = open(filename, 'a')\n",
    "writer = csv.writer(f, lineterminator='\\n')"
   ]
  },
  {
   "cell_type": "code",
   "execution_count": 3,
   "metadata": {},
   "outputs": [],
   "source": [
    "active_members = []\n",
    "graduated_members = []"
   ]
  },
  {
   "cell_type": "code",
   "execution_count": 4,
   "metadata": {},
   "outputs": [],
   "source": [
    "url = 'https://48pedia.org/%E6%AB%BB%E5%9D%8246%E3%83%A1%E3%83%B3%E3%83%90%E3%83%BC%E4%B8%80%E8%A6%A7'\n",
    "res = requests.get(url)\n",
    "soup = BeautifulSoup(res.text,\"lxml\")"
   ]
  },
  {
   "cell_type": "code",
   "execution_count": 5,
   "metadata": {},
   "outputs": [],
   "source": [
    "member_tables = soup.find_all('table')\n",
    "active_member_table = member_tables[0].find('tbody').find_all('tr')\n",
    "graduated_member_table = member_tables[1].find('tbody').find_all('tr')"
   ]
  },
  {
   "cell_type": "code",
   "execution_count": 6,
   "metadata": {},
   "outputs": [],
   "source": [
    "for i in range(1, 200):\n",
    "    try:\n",
    "        active_members.append(active_member_table[i].find_all('td')[2].find('a').get_text())\n",
    "    except:\n",
    "        break\n",
    "for i in range(1, 200):\n",
    "    try:\n",
    "        graduated_members.append(graduated_member_table[i].find_all('td')[2].find('a').get_text())\n",
    "    except:\n",
    "        break"
   ]
  },
  {
   "cell_type": "code",
   "execution_count": 7,
   "metadata": {},
   "outputs": [
    {
     "data": {
      "text/plain": [
       "['上村莉菜',\n",
       " '尾関梨香',\n",
       " '小池美波',\n",
       " '小林由依',\n",
       " '齋藤冬優花',\n",
       " '菅井友香',\n",
       " '土生瑞穂',\n",
       " '井上梨名',\n",
       " '遠藤光莉',\n",
       " '大園玲',\n",
       " '大沼晶保',\n",
       " '幸阪茉里乃',\n",
       " '関有美子',\n",
       " '武元唯衣',\n",
       " '田村保乃',\n",
       " '藤吉夏鈴',\n",
       " '増本綺良',\n",
       " '松田里奈',\n",
       " '森田ひかる',\n",
       " '守屋麗奈',\n",
       " '山﨑天']"
      ]
     },
     "execution_count": 7,
     "metadata": {},
     "output_type": "execute_result"
    }
   ],
   "source": [
    "active_members"
   ]
  },
  {
   "cell_type": "code",
   "execution_count": 8,
   "metadata": {},
   "outputs": [
    {
     "data": {
      "text/plain": [
       "['原田まゆ',\n",
       " '今泉佑唯',\n",
       " '志田愛佳',\n",
       " '米谷奈々未',\n",
       " '長濱ねる',\n",
       " '織田奈那',\n",
       " '鈴本美愉',\n",
       " '平手友梨奈',\n",
       " '長沢菜々香',\n",
       " '石森虹花',\n",
       " '佐藤詩織',\n",
       " '松平璃子',\n",
       " '守屋茜',\n",
       " '渡辺梨加',\n",
       " '渡邉理佐',\n",
       " '原田葵']"
      ]
     },
     "execution_count": 8,
     "metadata": {},
     "output_type": "execute_result"
    }
   ],
   "source": [
    "graduated_members.remove('鈴木泉帆')\n",
    "graduated_members"
   ]
  },
  {
   "cell_type": "code",
   "execution_count": 9,
   "metadata": {},
   "outputs": [
    {
     "data": {
      "text/plain": [
       "37"
      ]
     },
     "execution_count": 9,
     "metadata": {},
     "output_type": "execute_result"
    }
   ],
   "source": [
    "total_members = active_members + graduated_members\n",
    "len(total_members)"
   ]
  },
  {
   "cell_type": "code",
   "execution_count": 10,
   "metadata": {},
   "outputs": [],
   "source": [
    "birthdays = []\n",
    "places_of_birth = []\n",
    "blood_types = []\n",
    "heights = []\n",
    "generations = []\n",
    "exceptions = 0"
   ]
  },
  {
   "cell_type": "code",
   "execution_count": 11,
   "metadata": {},
   "outputs": [],
   "source": [
    "for member in total_members:\n",
    "    url = 'https://48pedia.org/' + member\n",
    "    #print(url)\n",
    "    res = requests.get(url)\n",
    "    soup = BeautifulSoup(res.text,\"lxml\")\n",
    "    information = []\n",
    "    labels = soup.find_all('td', {'class' : 'infobox-data'})\n",
    "    #Birthday\n",
    "    for i in range(10):\n",
    "        if '日' in labels[i].get_text() and '月' in labels[i].get_text():\n",
    "            idx = labels[i].get_text().index('日')\n",
    "            birthdays.append(labels[i].get_text()[1:idx + 1])\n",
    "            break\n",
    "    #Place of Birth\n",
    "    for i in range(10):\n",
    "        if '都' in labels[i].get_text() or '府' in labels[i].get_text() or '県' in labels[i].get_text() or '道' in labels[i].get_text() or 'ドイツ' in labels[i].get_text() or 'アメリカ' in labels[i].get_text():\n",
    "            places_of_birth.append(labels[i].get_text()[1:-2])\n",
    "            break\n",
    "    #Blood Type\n",
    "    for i in range(10):\n",
    "        try:\n",
    "            if 'O型' in labels[i].get_text() or 'A型' in labels[i].get_text() or 'B型' in labels[i].get_text() or '不' in labels[i].get_text():\n",
    "                blood_types.append(labels[i].get_text()[1:-3])\n",
    "                break\n",
    "        except:\n",
    "            print(url)\n",
    "            blood_types.append('O')\n",
    "            break\n",
    "    #Height\n",
    "    for i in range(10):\n",
    "        try:\n",
    "            if 'cm' in labels[i].get_text():\n",
    "                heights.append(labels[i].get_text()[1:-4])\n",
    "                break\n",
    "        except:\n",
    "            print(url)\n",
    "            heights.append(['164','156'][exceptions])\n",
    "            exceptions += 1\n",
    "            break\n",
    "    #Generation\n",
    "    for i in range(10):\n",
    "        if '期生' in labels[i].get_text():\n",
    "            generations.append(labels[i].get_text()[1:-4])\n",
    "            break\n",
    "    if url == 'https://48pedia.org/生駒里奈':\n",
    "        generations[-1] == '1'"
   ]
  },
  {
   "cell_type": "code",
   "execution_count": 12,
   "metadata": {},
   "outputs": [],
   "source": [
    "writer.writerow(total_members)\n",
    "writer.writerow(birthdays)\n",
    "writer.writerow(places_of_birth)\n",
    "writer.writerow(blood_types)\n",
    "writer.writerow(heights)\n",
    "writer.writerow(generations)\n",
    "f.close()"
   ]
  }
 ],
 "metadata": {
  "kernelspec": {
   "display_name": "Python 3.10.5 64-bit",
   "language": "python",
   "name": "python3"
  },
  "language_info": {
   "codemirror_mode": {
    "name": "ipython",
    "version": 3
   },
   "file_extension": ".py",
   "mimetype": "text/x-python",
   "name": "python",
   "nbconvert_exporter": "python",
   "pygments_lexer": "ipython3",
   "version": "3.10.5"
  },
  "orig_nbformat": 4,
  "vscode": {
   "interpreter": {
    "hash": "aee8b7b246df8f9039afb4144a1f6fd8d2ca17a180786b69acc140d282b71a49"
   }
  }
 },
 "nbformat": 4,
 "nbformat_minor": 2
}
