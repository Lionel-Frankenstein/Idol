{
 "cells": [
  {
   "cell_type": "code",
   "execution_count": 1,
   "metadata": {},
   "outputs": [],
   "source": [
    "import requests\n",
    "import re\n",
    "from bs4 import BeautifulSoup\n",
    "import csv"
   ]
  },
  {
   "cell_type": "code",
   "execution_count": 2,
   "metadata": {},
   "outputs": [],
   "source": [
    "filename = \"nogizaka46.csv\"\n",
    "f = open(filename, 'a')\n",
    "writer = csv.writer(f, lineterminator='\\n')"
   ]
  },
  {
   "cell_type": "code",
   "execution_count": 3,
   "metadata": {},
   "outputs": [],
   "source": [
    "active_members = []\n",
    "graduated_members = []"
   ]
  },
  {
   "cell_type": "code",
   "execution_count": 4,
   "metadata": {},
   "outputs": [],
   "source": [
    "url = 'https://48pedia.org/%E4%B9%83%E6%9C%A8%E5%9D%8246%E3%83%A1%E3%83%B3%E3%83%90%E3%83%BC%E4%B8%80%E8%A6%A7'\n",
    "res = requests.get(url)\n",
    "soup = BeautifulSoup(res.text,\"lxml\")"
   ]
  },
  {
   "cell_type": "code",
   "execution_count": 5,
   "metadata": {},
   "outputs": [],
   "source": [
    "member_tables = soup.find_all('table')\n",
    "active_member_table = member_tables[0].find('tbody').find_all('tr')\n",
    "graduated_member_table = member_tables[1].find('tbody').find_all('tr')"
   ]
  },
  {
   "cell_type": "code",
   "execution_count": 6,
   "metadata": {},
   "outputs": [],
   "source": [
    "for i in range(1, 200):\n",
    "    try:\n",
    "        active_members.append(active_member_table[i].find_all('td')[2].find('a').get_text())\n",
    "    except:\n",
    "        break\n",
    "for i in range(1, 200):\n",
    "    try:\n",
    "        graduated_members.append(graduated_member_table[i].find_all('td')[2].find('a').get_text())\n",
    "    except:\n",
    "        break"
   ]
  },
  {
   "cell_type": "code",
   "execution_count": 7,
   "metadata": {},
   "outputs": [
    {
     "data": {
      "text/plain": [
       "['秋元真夏',\n",
       " '伊藤理々杏',\n",
       " '岩本蓮加',\n",
       " '梅澤美波',\n",
       " '遠藤さくら',\n",
       " '賀喜遥香',\n",
       " '掛橋沙耶香',\n",
       " '金川紗耶',\n",
       " '北川悠理',\n",
       " '久保史緒里',\n",
       " '黒見明香',\n",
       " '齋藤飛鳥',\n",
       " '阪口珠美',\n",
       " '佐藤楓',\n",
       " '佐藤璃果',\n",
       " '柴田柚菜',\n",
       " '鈴木絢音',\n",
       " '清宮レイ',\n",
       " '田村真佑',\n",
       " '筒井あやめ',\n",
       " '中村麗乃',\n",
       " '早川聖来',\n",
       " '林瑠奈',\n",
       " '樋口日奈',\n",
       " '松尾美佑',\n",
       " '向井葉月',\n",
       " '矢久保美緒',\n",
       " '山下美月',\n",
       " '弓木奈於',\n",
       " '吉田綾乃クリスティー',\n",
       " '与田祐希',\n",
       " '和田まあや',\n",
       " '五百城茉央',\n",
       " '池田瑛紗',\n",
       " '一ノ瀬美空',\n",
       " '井上和',\n",
       " '岡本姫奈',\n",
       " '小川彩',\n",
       " '奥田いろは',\n",
       " '川﨑桜',\n",
       " '菅原咲月',\n",
       " '冨里奈央',\n",
       " '中西アルノ']"
      ]
     },
     "execution_count": 7,
     "metadata": {},
     "output_type": "execute_result"
    }
   ],
   "source": [
    "active_members"
   ]
  },
  {
   "cell_type": "code",
   "execution_count": 8,
   "metadata": {},
   "outputs": [
    {
     "data": {
      "text/plain": [
       "['山本穂乃香',\n",
       " '吉本彩華',\n",
       " '岩瀬佑美子',\n",
       " '安藤美雲',\n",
       " '柏幸奈',\n",
       " '宮澤成良',\n",
       " '西川七海',\n",
       " '市來玲奈',\n",
       " '矢田里沙子',\n",
       " '米徳京花',\n",
       " '伊藤寧々',\n",
       " '大和里菜',\n",
       " '畠中清羅',\n",
       " '松井玲奈',\n",
       " '永島聖羅',\n",
       " '深川麻衣',\n",
       " '橋本奈々未',\n",
       " '伊藤万理華',\n",
       " '中元日芽香',\n",
       " '川村真洋',\n",
       " '生駒里奈',\n",
       " '斎藤ちはる',\n",
       " '相楽伊織',\n",
       " '若月佑美',\n",
       " '能條愛未',\n",
       " '川後陽菜',\n",
       " '西野七瀬',\n",
       " '衛藤美彩',\n",
       " '伊藤かりん',\n",
       " '斉藤優里',\n",
       " '桜井玲香',\n",
       " '佐々木琴子',\n",
       " '井上小百合',\n",
       " '中田花奈',\n",
       " '白石麻衣',\n",
       " '堀未央奈',\n",
       " '松村沙友理',\n",
       " '伊藤純奈',\n",
       " '渡辺みり愛',\n",
       " '大園桃子',\n",
       " '高山一実',\n",
       " '寺田蘭世',\n",
       " '生田絵梨花',\n",
       " '新内眞衣',\n",
       " '星野みなみ',\n",
       " '北野日奈子',\n",
       " '山崎怜奈']"
      ]
     },
     "execution_count": 8,
     "metadata": {},
     "output_type": "execute_result"
    }
   ],
   "source": [
    "graduated_members"
   ]
  },
  {
   "cell_type": "code",
   "execution_count": 9,
   "metadata": {},
   "outputs": [
    {
     "data": {
      "text/plain": [
       "90"
      ]
     },
     "execution_count": 9,
     "metadata": {},
     "output_type": "execute_result"
    }
   ],
   "source": [
    "total_members = active_members + graduated_members\n",
    "len(total_members)"
   ]
  },
  {
   "cell_type": "code",
   "execution_count": 10,
   "metadata": {},
   "outputs": [],
   "source": [
    "birthdays = []\n",
    "places_of_birth = []\n",
    "blood_types = []\n",
    "heights = []\n",
    "generations = []\n",
    "exceptions = 0"
   ]
  },
  {
   "cell_type": "code",
   "execution_count": 11,
   "metadata": {},
   "outputs": [
    {
     "name": "stdout",
     "output_type": "stream",
     "text": [
      "https://48pedia.org/秋元真夏\n",
      "https://48pedia.org/伊藤理々杏\n",
      "https://48pedia.org/岩本蓮加\n",
      "https://48pedia.org/梅澤美波\n",
      "https://48pedia.org/遠藤さくら\n",
      "https://48pedia.org/賀喜遥香\n",
      "https://48pedia.org/掛橋沙耶香\n",
      "https://48pedia.org/金川紗耶\n",
      "https://48pedia.org/北川悠理\n",
      "https://48pedia.org/久保史緒里\n",
      "https://48pedia.org/黒見明香\n",
      "https://48pedia.org/齋藤飛鳥\n",
      "https://48pedia.org/阪口珠美\n",
      "https://48pedia.org/佐藤楓\n",
      "https://48pedia.org/佐藤璃果\n",
      "https://48pedia.org/柴田柚菜\n",
      "https://48pedia.org/鈴木絢音\n",
      "https://48pedia.org/清宮レイ\n",
      "https://48pedia.org/田村真佑\n",
      "https://48pedia.org/筒井あやめ\n",
      "https://48pedia.org/中村麗乃\n",
      "https://48pedia.org/早川聖来\n",
      "https://48pedia.org/林瑠奈\n",
      "https://48pedia.org/樋口日奈\n",
      "https://48pedia.org/松尾美佑\n",
      "https://48pedia.org/向井葉月\n",
      "https://48pedia.org/矢久保美緒\n",
      "https://48pedia.org/山下美月\n",
      "https://48pedia.org/弓木奈於\n",
      "https://48pedia.org/吉田綾乃クリスティー\n",
      "https://48pedia.org/与田祐希\n",
      "https://48pedia.org/和田まあや\n",
      "https://48pedia.org/五百城茉央\n",
      "https://48pedia.org/池田瑛紗\n",
      "https://48pedia.org/一ノ瀬美空\n",
      "https://48pedia.org/井上和\n",
      "https://48pedia.org/岡本姫奈\n",
      "https://48pedia.org/小川彩\n",
      "https://48pedia.org/奥田いろは\n",
      "https://48pedia.org/川﨑桜\n",
      "https://48pedia.org/菅原咲月\n",
      "https://48pedia.org/冨里奈央\n",
      "https://48pedia.org/中西アルノ\n",
      "https://48pedia.org/山本穂乃香\n",
      "https://48pedia.org/吉本彩華\n",
      "https://48pedia.org/岩瀬佑美子\n",
      "https://48pedia.org/安藤美雲\n",
      "https://48pedia.org/柏幸奈\n",
      "https://48pedia.org/宮澤成良\n",
      "https://48pedia.org/西川七海\n",
      "https://48pedia.org/市來玲奈\n",
      "https://48pedia.org/矢田里沙子\n",
      "https://48pedia.org/米徳京花\n",
      "https://48pedia.org/伊藤寧々\n",
      "https://48pedia.org/大和里菜\n",
      "https://48pedia.org/畠中清羅\n",
      "https://48pedia.org/松井玲奈\n",
      "https://48pedia.org/永島聖羅\n",
      "https://48pedia.org/深川麻衣\n",
      "https://48pedia.org/橋本奈々未\n",
      "https://48pedia.org/伊藤万理華\n",
      "https://48pedia.org/中元日芽香\n",
      "https://48pedia.org/川村真洋\n",
      "https://48pedia.org/生駒里奈\n",
      "https://48pedia.org/斎藤ちはる\n",
      "https://48pedia.org/相楽伊織\n",
      "https://48pedia.org/若月佑美\n",
      "https://48pedia.org/能條愛未\n",
      "https://48pedia.org/川後陽菜\n",
      "https://48pedia.org/西野七瀬\n",
      "https://48pedia.org/衛藤美彩\n",
      "https://48pedia.org/伊藤かりん\n",
      "https://48pedia.org/斉藤優里\n",
      "https://48pedia.org/桜井玲香\n",
      "https://48pedia.org/佐々木琴子\n",
      "https://48pedia.org/井上小百合\n",
      "https://48pedia.org/中田花奈\n",
      "https://48pedia.org/白石麻衣\n",
      "https://48pedia.org/堀未央奈\n",
      "https://48pedia.org/松村沙友理\n",
      "https://48pedia.org/伊藤純奈\n",
      "https://48pedia.org/渡辺みり愛\n",
      "https://48pedia.org/大園桃子\n",
      "https://48pedia.org/高山一実\n",
      "https://48pedia.org/寺田蘭世\n",
      "https://48pedia.org/生田絵梨花\n",
      "https://48pedia.org/新内眞衣\n",
      "https://48pedia.org/星野みなみ\n",
      "https://48pedia.org/北野日奈子\n",
      "https://48pedia.org/山崎怜奈\n"
     ]
    }
   ],
   "source": [
    "for member in total_members:\n",
    "    url = 'https://48pedia.org/' + member\n",
    "    print(url)\n",
    "    res = requests.get(url)\n",
    "    soup = BeautifulSoup(res.text,\"lxml\")\n",
    "    information = []\n",
    "    labels = soup.find_all('td', {'class' : 'infobox-data'})\n",
    "    #Birthday\n",
    "    for i in range(10):\n",
    "        try:\n",
    "            if '日' in labels[i].get_text() and '月' in labels[i].get_text():\n",
    "                idx = labels[i].get_text().index('日')\n",
    "                birthdays.append(labels[i].get_text()[1:idx + 1])\n",
    "            break\n",
    "        except:\n",
    "            continue\n",
    "    #Place of Birth\n",
    "    for i in range(10):\n",
    "        if '都' in labels[i].get_text() or '府' in labels[i].get_text() or '県' in labels[i].get_text() or '道' in labels[i].get_text() or 'ドイツ' in labels[i].get_text() or 'アメリカ' in labels[i].get_text():\n",
    "            places_of_birth.append(labels[i].get_text()[1:-2])\n",
    "            break\n",
    "    #Blood Type\n",
    "    for i in range(10):\n",
    "        try:\n",
    "            if 'O型' in labels[i].get_text() or 'A型' in labels[i].get_text() or 'B型' in labels[i].get_text() or '不' in labels[i].get_text():\n",
    "                blood_types.append(labels[i].get_text()[1:-3])\n",
    "                break\n",
    "        except:\n",
    "            blood_types.append('O')\n",
    "            break\n",
    "    #Height\n",
    "    for i in range(10):\n",
    "        try:\n",
    "            if 'cm' in labels[i].get_text():\n",
    "                heights.append(labels[i].get_text()[1:-4])\n",
    "                break\n",
    "        except:\n",
    "            heights.append(['164','156'][exceptions])\n",
    "            exceptions += 1\n",
    "            break\n",
    "    #Generation\n",
    "    for i in range(10):\n",
    "        if '期生' in labels[i].get_text():\n",
    "            generations.append(labels[i].get_text()[1:-4])\n",
    "            break\n",
    "    if url == 'https://48pedia.org/生駒里奈':\n",
    "        generations[-1] == '1'"
   ]
  },
  {
   "cell_type": "code",
   "execution_count": 12,
   "metadata": {},
   "outputs": [],
   "source": [
    "writer.writerow(total_members)\n",
    "writer.writerow(birthdays)\n",
    "writer.writerow(places_of_birth)\n",
    "writer.writerow(blood_types)\n",
    "writer.writerow(heights)\n",
    "writer.writerow(generations)\n",
    "f.close()"
   ]
  }
 ],
 "metadata": {
  "kernelspec": {
   "display_name": "Python 3.10.5 64-bit",
   "language": "python",
   "name": "python3"
  },
  "language_info": {
   "codemirror_mode": {
    "name": "ipython",
    "version": 3
   },
   "file_extension": ".py",
   "mimetype": "text/x-python",
   "name": "python",
   "nbconvert_exporter": "python",
   "pygments_lexer": "ipython3",
   "version": "3.10.5"
  },
  "orig_nbformat": 4,
  "vscode": {
   "interpreter": {
    "hash": "aee8b7b246df8f9039afb4144a1f6fd8d2ca17a180786b69acc140d282b71a49"
   }
  }
 },
 "nbformat": 4,
 "nbformat_minor": 2
}
